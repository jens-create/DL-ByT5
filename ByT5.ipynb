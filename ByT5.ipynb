{
 "cells": [
  {
   "cell_type": "markdown",
   "metadata": {},
   "source": [
    "## Install libraries"
   ]
  },
  {
   "cell_type": "code",
   "execution_count": 1,
   "metadata": {},
   "outputs": [],
   "source": [
    "#!pip3 install torchmetrics==0.4.1 - obsolete\n",
    "#!pip3 install transformers==4.8.2\n",
    "#!pip3 install pytorch_lightning==1.3.8 - obsolete"
   ]
  },
  {
   "cell_type": "code",
   "execution_count": 3,
   "metadata": {},
   "outputs": [],
   "source": [
    "import pandas as pd\n",
    "from transformers import T5ForConditionalGeneration, AutoTokenizer, Trainer, TrainingArguments\n",
    "import sys\n",
    "from torch.utils.data import DataLoader\n",
    "from pytorch_lightning.utilities.apply_func import move_data_to_device\n",
    "import torch\n",
    "import matplotlib.pyplot as plt\n"
   ]
  },
  {
   "cell_type": "markdown",
   "metadata": {},
   "source": [
    "## Preview data and fine-tune model"
   ]
  },
  {
   "cell_type": "code",
   "execution_count": null,
   "metadata": {},
   "outputs": [],
   "source": [
    "#Dummy data\n",
    "X = []"
   ]
  },
  {
   "cell_type": "code",
   "execution_count": 4,
   "metadata": {},
   "outputs": [
    {
     "name": "stderr",
     "output_type": "stream",
     "text": [
      "Downloading: 100%|██████████| 698/698 [00:00<00:00, 209kB/s]\n",
      "Downloading: 100%|██████████| 1.20G/1.20G [01:50<00:00, 10.9MB/s]\n",
      "Downloading: 100%|██████████| 2.59k/2.59k [00:00<00:00, 972kB/s]\n",
      "Downloading: 100%|██████████| 2.50k/2.50k [00:00<00:00, 1.02MB/s]\n"
     ]
    }
   ],
   "source": [
    "model = T5ForConditionalGeneration.from_pretrained('google/byt5-small')\n",
    "tokenizer = AutoTokenizer.from_pretrained('google/byt5-small')"
   ]
  },
  {
   "cell_type": "code",
   "execution_count": null,
   "metadata": {},
   "outputs": [],
   "source": [
    "train_inputs = tokenizer(X, return_tensors=\"pt\", padding=True, truncation=True, max_length=256)\n",
    "\n",
    "train_tgt = tokenizer(y, return_tensors=\"pt\", padding=True, truncation=True, max_length=256)\n",
    "\n",
    "train_inputs['labels'] = train_tgt['input_ids']"
   ]
  },
  {
   "cell_type": "code",
   "execution_count": null,
   "metadata": {},
   "outputs": [],
   "source": [
    "import TextDataset from ByT5_helper_functions\n",
    "\n",
    "train_dataset = TextDataset(train_inputs)"
   ]
  }
 ],
 "metadata": {
  "interpreter": {
   "hash": "b0fa6594d8f4cbf19f97940f81e996739fb7646882a419484c72d19e05852a7e"
  },
  "kernelspec": {
   "display_name": "Python 3.9.9 64-bit",
   "language": "python",
   "name": "python3"
  },
  "language_info": {
   "codemirror_mode": {
    "name": "ipython",
    "version": 3
   },
   "file_extension": ".py",
   "mimetype": "text/x-python",
   "name": "python",
   "nbconvert_exporter": "python",
   "pygments_lexer": "ipython3",
   "version": "3.9.9"
  },
  "orig_nbformat": 4
 },
 "nbformat": 4,
 "nbformat_minor": 2
}
