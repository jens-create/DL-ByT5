{
 "cells": [
  {
   "cell_type": "markdown",
   "metadata": {},
   "source": [
    "## Install libraries"
   ]
  },
  {
   "cell_type": "code",
   "execution_count": 1,
   "metadata": {},
   "outputs": [],
   "source": [
    "#!pip3 install torchmetrics==0.4.1 - obsolete\n",
    "#!pip3 install transformers==4.8.2\n",
    "#!pip3 install pytorch_lightning==1.3.8 - obsolete"
   ]
  },
  {
   "cell_type": "code",
   "execution_count": 2,
   "metadata": {},
   "outputs": [],
   "source": [
    "import pandas as pd\n",
    "from transformers import T5ForConditionalGeneration, AutoTokenizer, Trainer, TrainingArguments\n",
    "import sys\n",
    "from torch.utils.data import DataLoader\n",
    "from pytorch_lightning.utilities.apply_func import move_data_to_device\n",
    "import torch\n",
    "import matplotlib.pyplot as plt\n"
   ]
  },
  {
   "cell_type": "markdown",
   "metadata": {},
   "source": [
    "## Preview data and fine-tune model"
   ]
  },
  {
   "cell_type": "code",
   "execution_count": 4,
   "metadata": {},
   "outputs": [],
   "source": [
    "#Only the test data is provided as DanSpeech wishes to keep the entire data set private.\n",
    "df = pd.read_pickle('clean_data_test.pkl')\n",
    "\n",
    "X = df['transcription'].tolist() \n",
    "y = df['reference_text'].tolist()"
   ]
  },
  {
   "cell_type": "markdown",
   "metadata": {},
   "source": [
    "We use the small ByT5 pre-trained model. The model and the UTF-8 tokenizer is downloaded from the huggingface library."
   ]
  },
  {
   "cell_type": "code",
   "execution_count": 7,
   "metadata": {},
   "outputs": [],
   "source": [
    "model = T5ForConditionalGeneration.from_pretrained('google/byt5-small')\n",
    "tokenizer = AutoTokenizer.from_pretrained('google/byt5-small')"
   ]
  },
  {
   "cell_type": "code",
   "execution_count": 8,
   "metadata": {},
   "outputs": [],
   "source": [
    "train_inputs = tokenizer(X, return_tensors=\"pt\", padding=True, truncation=True, max_length=256)\n",
    "\n",
    "train_tgt = tokenizer(y, return_tensors=\"pt\", padding=True, truncation=True, max_length=256)\n",
    "\n",
    "train_inputs['labels'] = train_tgt['input_ids']"
   ]
  },
  {
   "cell_type": "code",
   "execution_count": 15,
   "metadata": {},
   "outputs": [],
   "source": [
    "class TextDataset(torch.utils.data.Dataset):\n",
    "    def __init__(self, encodings, y_encodings=None):\n",
    "        self.encodings = encodings\n",
    "\n",
    "    def __getitem__(self, idx):\n",
    "        item= {key: val[idx] for key, val in self.encodings.items()}\n",
    "        #item['labels'] = {key: torch.tensor(val[idx]) for key, val in self.y_encodings.items()}\n",
    "        return item\n",
    "\n",
    "    def __len__(self):\n",
    "        return len(self.encodings['input_ids'])\n",
    "\n",
    "train_dataset = TextDataset(train_inputs)"
   ]
  },
  {
   "cell_type": "code",
   "execution_count": null,
   "metadata": {},
   "outputs": [],
   "source": [
    "training_args = TrainingArguments(\n",
    "    output_dir='./results',          # output directory\n",
    "    num_train_epochs=1,              # total number of training epochs\n",
    "    per_device_train_batch_size=4,  # batch size per device during training\n",
    "    #per_device_eval_batch_size=2,   # batch size for evaluation\n",
    "    warmup_steps=3000,                # number of warmup steps for learning rate scheduler (used to be 500)\n",
    "    weight_decay=0.01,               # strength of weight decay\n",
    "    learning_rate=0.1e-3,           # default = 5e-5=0.5e-4\n",
    "    logging_dir='./logs',            # directory for storing logs\n",
    "    logging_steps=50,\n",
    "    #eval_steps = 100,\n",
    "    overwrite_output_dir = True,\n",
    "    save_strategy = 'epoch',\n",
    "    #logging_strategy = 'epoch',\n",
    ")\n",
    "\n",
    "trainer = Trainer(\n",
    "    model=model,                         # the instantiated 🤗 Transformers model to be trained\n",
    "    args=training_args,                  # training arguments, defined above\n",
    "    train_dataset=train_dataset,         # training dataset\n",
    ")\n",
    "\n",
    "#trainer.train()  Takes very long if GPU not used.\n"
   ]
  },
  {
   "cell_type": "markdown",
   "metadata": {},
   "source": [
    "The model was trained with the training data set and the fine-tuned model has been uploaded to Huggingface. The best ByT5 model can be found at https://huggingface.co/jenspt/byt5_ft_all_clean_data_lr_1e4"
   ]
  },
  {
   "cell_type": "markdown",
   "metadata": {},
   "source": [
    "## Inferring on the fine-tuned model"
   ]
  },
  {
   "cell_type": "markdown",
   "metadata": {},
   "source": [
    "The same data set is used in this dummy example. The DataLoader function is used to prepare the input sentences to the inferring.\n",
    "The fine-tuned models that was uploaded to huggingface is downloaded."
   ]
  },
  {
   "cell_type": "code",
   "execution_count": null,
   "metadata": {},
   "outputs": [],
   "source": [
    "test_inputs = tokenizer(X, return_tensors=\"pt\", padding=True, truncation=True, max_length=256)\n",
    "test_dataset = TextDataset(test_inputs)\n",
    "\n",
    "def get_train_dataloader(dataset):\n",
    "    return DataLoader(\n",
    "        dataset, batch_size=8, shuffle=False, drop_last=True,\n",
    "        num_workers=0\n",
    "    )\n",
    "\n",
    "dataloader = get_train_dataloader(test_dataset)\n",
    "\n",
    "#Download fine-tuned model:\n",
    "model_ft = T5ForConditionalGeneration.from_pretrained('jenspt/byt5_ft_all_clean_data_lr_1e4')"
   ]
  },
  {
   "cell_type": "code",
   "execution_count": null,
   "metadata": {},
   "outputs": [],
   "source": [
    "device = torch.device(\"cuda:0\" if torch.cuda.is_available() else \"cpu\")\n",
    "print(\"Running on: {}\".format(device))\n",
    "model_ft = model_ft.to(device)\n",
    "\n",
    "\n",
    "model_ft.eval()\n",
    "\n",
    "out = []\n",
    "      \n",
    "for i, batch in enumerate(dataloader):\n",
    "  if i % 50 ==0:\n",
    "    print(i/len(dataloader))\n",
    "  batch = move_data_to_device(batch, device)\n",
    "  output = model_ft.generate(\n",
    "              input_ids=batch[\"input_ids\"], attention_mask=batch[\"attention_mask\"],\n",
    "              repetition_penalty=1.0, length_penalty=1.0, max_length=256,\n",
    "              num_beams=1, num_return_sequences=1,\n",
    "              output_scores=True, return_dict_in_generate=True\n",
    "          )\n",
    "    \n",
    "  outputs = tokenizer.batch_decode(output.sequences, skip_special_tokens=True)\n",
    "  out.append(outputs)"
   ]
  },
  {
   "cell_type": "markdown",
   "metadata": {},
   "source": [
    "The corrected sentences were uploaded and saved in the original dataframe. "
   ]
  },
  {
   "cell_type": "markdown",
   "metadata": {},
   "source": [
    "## Evaluation"
   ]
  },
  {
   "cell_type": "markdown",
   "metadata": {},
   "source": []
  },
  {
   "cell_type": "code",
   "execution_count": 18,
   "metadata": {},
   "outputs": [],
   "source": [
    "import Levenshtein as Lev\n",
    "def wer_rasmus(s1, s2):\n",
    "    \"\"\"\n",
    "    Computes the Word Error Rate, defined as the edit distance between the\n",
    "    two provided sentences after tokenizing to words.\n",
    "    Arguments:\n",
    "        s1 (string): space-separated sentence\n",
    "        s2 (string): space-separated sentence\n",
    "    \"\"\"\n",
    "\n",
    "    # build mapping of words to integers\n",
    "    b = set(s1.split() + s2.split())\n",
    "    word2char = dict(zip(b, range(len(b))))\n",
    "\n",
    "    # map the words to a char array (Levenshtein packages only accepts\n",
    "    # strings)\n",
    "    w1 = [chr(word2char[w]) for w in s1.split()]\n",
    "    w2 = [chr(word2char[w]) for w in s2.split()]\n",
    "\n",
    "    return Lev.distance(''.join(w1), ''.join(w2))\n",
    "\n",
    "def wer(s1, s2):\n",
    "  return wer_rasmus(s1.lower(),s2.lower()) / len(s2.split(\" \"))\n",
    "def calculate_wer(df):\n",
    "  return wer(df['corrected'],df['reference_text'])"
   ]
  },
  {
   "cell_type": "code",
   "execution_count": 20,
   "metadata": {},
   "outputs": [
    {
     "name": "stdout",
     "output_type": "stream",
     "text": [
      "Baseline WER:  8.977595922015709\n",
      "Best ByT5 model:  6.465655469246048\n"
     ]
    }
   ],
   "source": [
    "df = pd.read_pickle(\"ByT5_lr_1e4.pkl\")\n",
    "df['corrected_wer'] = df.apply(calculate_wer,axis=1)\n",
    "print(\"Baseline WER: \",df['test_wer'].mean()*100)\n",
    "print(\"Best ByT5 model: \",df['corrected_wer'].mean()*100)\n"
   ]
  },
  {
   "cell_type": "code",
   "execution_count": null,
   "metadata": {},
   "outputs": [],
   "source": []
  }
 ],
 "metadata": {
  "interpreter": {
   "hash": "b0fa6594d8f4cbf19f97940f81e996739fb7646882a419484c72d19e05852a7e"
  },
  "kernelspec": {
   "display_name": "Python 3.9.9 64-bit",
   "language": "python",
   "name": "python3"
  },
  "language_info": {
   "codemirror_mode": {
    "name": "ipython",
    "version": 3
   },
   "file_extension": ".py",
   "mimetype": "text/x-python",
   "name": "python",
   "nbconvert_exporter": "python",
   "pygments_lexer": "ipython3",
   "version": "3.9.9"
  },
  "orig_nbformat": 4
 },
 "nbformat": 4,
 "nbformat_minor": 2
}
