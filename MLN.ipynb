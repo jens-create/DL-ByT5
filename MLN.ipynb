{
 "cells": [
  {
   "cell_type": "markdown",
   "metadata": {},
   "source": [
    "### Install dependencies and load packages"
   ]
  },
  {
   "cell_type": "code",
   "execution_count": null,
   "metadata": {},
   "outputs": [],
   "source": [
    "!pip3 install torchmetrics==0.4.1\n",
    "!pip3 install transformers==4.8.2\n",
    "!pip3 install pytorch_lightning==1.3.8"
   ]
  },
  {
   "cell_type": "code",
   "execution_count": 33,
   "metadata": {},
   "outputs": [],
   "source": [
    "from transformers import T5ForConditionalGeneration, AutoTokenizer\n",
    "import torch\n",
    "from torch.utils.data import Dataset\n",
    "from MLN_individual_files.helper_classes import *\n",
    "import numpy as np\n",
    "import pickle\n",
    "from transformers import get_scheduler\n",
    "from transformers import AdamW\n",
    "from torch.utils.data import DataLoader\n",
    "from tqdm.auto import tqdm"
   ]
  },
  {
   "cell_type": "markdown",
   "metadata": {},
   "source": [
    "## Preview data and fine-tune MLN model."
   ]
  },
  {
   "cell_type": "code",
   "execution_count": 3,
   "metadata": {},
   "outputs": [
    {
     "name": "stderr",
     "output_type": "stream",
     "text": [
      "Downloading: 100%|██████████| 706/706 [00:00<00:00, 227kB/s]\n",
      "Downloading: 100%|██████████| 1.20G/1.20G [01:47<00:00, 11.1MB/s] \n",
      "Downloading: 100%|██████████| 2.59k/2.59k [00:00<00:00, 1.07MB/s]\n",
      "Downloading: 100%|██████████| 2.50k/2.50k [00:00<00:00, 801kB/s]\n"
     ]
    }
   ],
   "source": [
    "model = T5ForConditionalGeneration.from_pretrained('ufal/byt5-small-multilexnorm2021-da')\n",
    "tokenizer = AutoTokenizer.from_pretrained('ufal/byt5-small-multilexnorm2021-da')"
   ]
  },
  {
   "cell_type": "code",
   "execution_count": 5,
   "metadata": {},
   "outputs": [
    {
     "name": "stdout",
     "output_type": "stream",
     "text": [
      "Dataset initialized...\n"
     ]
    }
   ],
   "source": [
    "with open('data/mln_data_test_inputs.pkl', 'rb') as f:\n",
    "    X_train = pickle.load(f)\n",
    "with open('data/mln_data_test_outputs.pkl', 'rb') as f:\n",
    "    y_train = pickle.load(f)\n",
    "\n",
    "data = MultiPlexDataset(X_train, y_train, only_include_corrections=True)"
   ]
  },
  {
   "cell_type": "markdown",
   "metadata": {},
   "source": [
    "In this demo the test set is loaded. In the real training we ofcourse used the training set. \n",
    "We have only included data points with errors."
   ]
  },
  {
   "cell_type": "code",
   "execution_count": 7,
   "metadata": {},
   "outputs": [
    {
     "data": {
      "text/plain": [
       "{'input_sample': 'gyset der har siddet sammenkrøbet i <extra_id_0>nakke<extra_id_1> regionen udløses',\n",
       " 'expected_output': 'nakkeregionen'}"
      ]
     },
     "execution_count": 7,
     "metadata": {},
     "output_type": "execute_result"
    }
   ],
   "source": [
    "data[0] #We see that there is an error."
   ]
  },
  {
   "cell_type": "code",
   "execution_count": 11,
   "metadata": {},
   "outputs": [],
   "source": [
    "dataloader = DataLoader(data, batch_size=8, collate_fn=CollateFunctor_Train(tokenizer))"
   ]
  },
  {
   "cell_type": "code",
   "execution_count": 12,
   "metadata": {},
   "outputs": [
    {
     "name": "stdout",
     "output_type": "stream",
     "text": [
      "2624\n"
     ]
    }
   ],
   "source": [
    "optimizer = AdamW(model.parameters(), lr=0.3e-3)\n",
    "num_epochs = 1\n",
    "num_training_steps = num_epochs * len(dataloader)\n",
    "lr_scheduler = get_scheduler(\n",
    "    \"linear\",\n",
    "    optimizer=optimizer,\n",
    "    num_warmup_steps=4000,\n",
    "    num_training_steps=num_training_steps,\n",
    ")\n",
    "print(num_training_steps)\n",
    "\n",
    "device = torch.device(\"cuda\") if torch.cuda.is_available() else torch.device(\"cpu\")\n",
    "model = model.to(device)"
   ]
  },
  {
   "cell_type": "code",
   "execution_count": null,
   "metadata": {},
   "outputs": [],
   "source": [
    "from tqdm.auto import tqdm\n",
    "\n",
    "progress_bar = tqdm(range(num_training_steps))\n",
    "running_loss=0\n",
    "model.train()\n",
    "for i, batch in enumerate(dataloader):\n",
    "    batch = {k: v.to(device) for k, v in batch.items() if k != 'sentence_ids' and k != 'word_ids'}\n",
    "    outputs = model(**batch)\n",
    "    loss = outputs.loss\n",
    "    loss.backward()\n",
    "    optimizer.step()\n",
    "    lr_scheduler.step()\n",
    "    optimizer.zero_grad()\n",
    "    progress_bar.update(1)\n",
    "    # print statistics\n",
    "    running_loss += loss.item()\n",
    "    if i % 50 == 0:    # print every 2000 mini-batches\n",
    "        print('[%5d] loss: %.3f' %\n",
    "              (i + 1, running_loss / 50))\n",
    "        running_loss = 0.0"
   ]
  },
  {
   "cell_type": "markdown",
   "metadata": {},
   "source": [
    "The MLN model was fine-tuned and the model was uploaded to huggingface.\n",
    "https://huggingface.co/jenspt/mln_ft "
   ]
  },
  {
   "cell_type": "markdown",
   "metadata": {},
   "source": [
    "## Inferring"
   ]
  },
  {
   "cell_type": "markdown",
   "metadata": {},
   "source": [
    "We do inferring on the fine-tuned model. We download it from the huggingface library. If we wanted to get a baseline using the MLN as it is, we could simply download the one that the MLN team has made available."
   ]
  },
  {
   "cell_type": "code",
   "execution_count": 18,
   "metadata": {},
   "outputs": [
    {
     "name": "stderr",
     "output_type": "stream",
     "text": [
      "Downloading: 100%|██████████| 701/701 [00:00<00:00, 230kB/s]\n",
      "Downloading: 100%|██████████| 1.20G/1.20G [01:51<00:00, 10.8MB/s]\n"
     ]
    }
   ],
   "source": [
    "model = T5ForConditionalGeneration.from_pretrained('jenspt/mln_ft')\n",
    "tokenizer = AutoTokenizer.from_pretrained('ufal/byt5-small-multilexnorm2021-da')"
   ]
  },
  {
   "cell_type": "code",
   "execution_count": null,
   "metadata": {},
   "outputs": [],
   "source": [
    "with open('data/mln_data_test_inputs.pkl', 'rb') as f:\n",
    "    X_test = pickle.load(f)\n",
    "with open('data/mln_data_test_outputs.pkl', 'rb') as f:\n",
    "    y_test = pickle.load(f)\n",
    "data = MultilexnormDataset(X_test, y_test)\n",
    "data_loader = get_train_dataloader(data, tokenizer)"
   ]
  },
  {
   "cell_type": "code",
   "execution_count": 36,
   "metadata": {},
   "outputs": [
    {
     "ename": "NameError",
     "evalue": "name 'OutputAssembler' is not defined",
     "output_type": "error",
     "traceback": [
      "\u001b[0;31m---------------------------------------------------------------------------\u001b[0m",
      "\u001b[0;31mNameError\u001b[0m                                 Traceback (most recent call last)",
      "\u001b[0;32m/var/folders/bv/xby84vl924s_z97thsyrkm8h0000gn/T/ipykernel_15839/2488753028.py\u001b[0m in \u001b[0;36m<module>\u001b[0;34m\u001b[0m\n\u001b[1;32m      1\u001b[0m \u001b[0;32mfrom\u001b[0m \u001b[0mpytorch_lightning\u001b[0m\u001b[0;34m.\u001b[0m\u001b[0mutilities\u001b[0m\u001b[0;34m.\u001b[0m\u001b[0mapply_func\u001b[0m \u001b[0;32mimport\u001b[0m \u001b[0mmove_data_to_device\u001b[0m\u001b[0;34m\u001b[0m\u001b[0;34m\u001b[0m\u001b[0m\n\u001b[1;32m      2\u001b[0m \u001b[0moutput_dir\u001b[0m \u001b[0;34m=\u001b[0m \u001b[0;34m\"drive/My Drive/projekt/\"\u001b[0m\u001b[0;34m\u001b[0m\u001b[0;34m\u001b[0m\u001b[0m\n\u001b[0;32m----> 3\u001b[0;31m \u001b[0massembler\u001b[0m \u001b[0;34m=\u001b[0m \u001b[0mOutputAssembler\u001b[0m\u001b[0;34m(\u001b[0m\u001b[0moutput_dir\u001b[0m\u001b[0;34m,\u001b[0m \u001b[0mdata\u001b[0m\u001b[0;34m)\u001b[0m\u001b[0;34m\u001b[0m\u001b[0;34m\u001b[0m\u001b[0m\n\u001b[0m\u001b[1;32m      4\u001b[0m \u001b[0mdevice\u001b[0m \u001b[0;34m=\u001b[0m \u001b[0mtorch\u001b[0m\u001b[0;34m.\u001b[0m\u001b[0mdevice\u001b[0m\u001b[0;34m(\u001b[0m\u001b[0;34m\"cuda:0\"\u001b[0m \u001b[0;32mif\u001b[0m \u001b[0mtorch\u001b[0m\u001b[0;34m.\u001b[0m\u001b[0mcuda\u001b[0m\u001b[0;34m.\u001b[0m\u001b[0mis_available\u001b[0m\u001b[0;34m(\u001b[0m\u001b[0;34m)\u001b[0m \u001b[0;32melse\u001b[0m \u001b[0;34m\"cpu\"\u001b[0m\u001b[0;34m)\u001b[0m\u001b[0;34m\u001b[0m\u001b[0;34m\u001b[0m\u001b[0m\n\u001b[1;32m      5\u001b[0m \u001b[0mmodel\u001b[0m \u001b[0;34m=\u001b[0m \u001b[0mmodel\u001b[0m\u001b[0;34m.\u001b[0m\u001b[0mto\u001b[0m\u001b[0;34m(\u001b[0m\u001b[0mdevice\u001b[0m\u001b[0;34m)\u001b[0m\u001b[0;34m\u001b[0m\u001b[0;34m\u001b[0m\u001b[0m\n",
      "\u001b[0;31mNameError\u001b[0m: name 'OutputAssembler' is not defined"
     ]
    }
   ],
   "source": [
    "from pytorch_lightning.utilities.apply_func import move_data_to_device\n",
    "output_dir = \"drive/My Drive/projekt/\"\n",
    "assembler = OutputAssembler(output_dir, data)\n",
    "device = torch.device(\"cuda:0\" if torch.cuda.is_available() else \"cpu\")\n",
    "model = model.to(device)\n",
    "model.eval()\n",
    "\n",
    "for i, batch in enumerate(data_loader):\n",
    "    batch = move_data_to_device(batch, device)\n",
    "    sentence_ids, word_ids = batch[\"sentence_ids\"], batch[\"word_ids\"]\n",
    "    output = model.generate(\n",
    "            input_ids=batch[\"input_ids\"], attention_mask=batch[\"attention_mask\"],\n",
    "            repetition_penalty=1.0, length_penalty=1.0, max_length=32,\n",
    "            num_beams=1, num_return_sequences=1,\n",
    "            output_scores=True, return_dict_in_generate=True\n",
    "        )\n",
    "\n",
    "    scores = [[0.0] for i in range(len(sentence_ids))]\n",
    "    outputs = tokenizer.batch_decode(output.sequences, skip_special_tokens=True)\n",
    "    outputs = [outputs[i:(i+1)] for i in range(len(sentence_ids))]\n",
    "\n",
    "    out_dict = {\n",
    "        \"predictions\": outputs,\n",
    "        \"scores\": scores,\n",
    "        \"sentence_ids\": sentence_ids,\n",
    "        \"word_ids\": word_ids,\n",
    "    }\n",
    "    assembler.step(out_dict)\n",
    "    print(f\"{i} / {(len(data) + 8 - 1) // 8}\", flush=True)\n",
    "assembler.flush()"
   ]
  }
 ],
 "metadata": {
  "interpreter": {
   "hash": "b0fa6594d8f4cbf19f97940f81e996739fb7646882a419484c72d19e05852a7e"
  },
  "kernelspec": {
   "display_name": "Python 3.9.9 64-bit",
   "language": "python",
   "name": "python3"
  },
  "language_info": {
   "codemirror_mode": {
    "name": "ipython",
    "version": 3
   },
   "file_extension": ".py",
   "mimetype": "text/x-python",
   "name": "python",
   "nbconvert_exporter": "python",
   "pygments_lexer": "ipython3",
   "version": "3.9.9"
  },
  "orig_nbformat": 4
 },
 "nbformat": 4,
 "nbformat_minor": 2
}
